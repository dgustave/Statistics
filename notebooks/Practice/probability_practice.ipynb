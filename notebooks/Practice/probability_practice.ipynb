{
 "cells": [
  {
   "cell_type": "markdown",
   "metadata": {},
   "source": [
    "Practice Exercises 2"
   ]
  },
  {
   "cell_type": "markdown",
   "metadata": {},
   "source": [
    "<div class=\"alert alert-block alert-warning\">\n",
    "    <b>1. A box is filled with several party favors. It contains 12 hats, 15 noisemakers, 10 finger traps, and 5 bags of confetti.</b><br>\n",
    "    <dl>\n",
    "        <li>\n",
    "            Let H = the event of getting a hat. \n",
    "        </li>\n",
    "        <li>\n",
    "            Let N = the event of getting a noisemaker. \n",
    "        </li>\n",
    "        <li>\n",
    "            Let F = the event of getting a finger trap. \n",
    "        </li>\n",
    "        <li>\n",
    "            Let C = the event of getting a bag of confetti.\n",
    "        </li>\n",
    "        <li>\n",
    "            Find P(H). \n",
    "        </li>\n",
    "    </dl>\n",
    "</div>"
   ]
  },
  {
   "cell_type": "markdown",
   "metadata": {},
   "source": [
    "<div class=\"alert alert-block alert-warning\">\n",
    "    <b>2. In 1994, the U.S. government held a lottery to issue 55,000 Green Cards (permits for non-citizens to work legally in the United States). Renate Deutsch, from Germany, was one of approximately 6.5 million people who entered this lottery. Let G = won Green Card.</b><br>\n",
    "    <dl>\n",
    "    <ol type=\"a\">\n",
    "        <li>\n",
    "            What was Renate’s chance of winning a Green Card? Write your answer as a probability statement.  \n",
    "        </li>\n",
    "        <li>\n",
    "            In the summer of 1994, Renate received a letter stating she was one of 110,000 finalists chosen. Once the finalists were chosen, assuming that each finalist had an equal chance to win, what was Renate’s chance of winning a Green Card? Write your answer as a conditional probability statement. Let F = was a finalist. \n",
    "        </li>\n",
    "        <li>\n",
    "            Are G and F independent or dependent events? Justify your answer numerically and also explain why. \n",
    "        </li>\n",
    "        <li>\n",
    "           Are G and F mutually exclusive events? Justify your answer numerically and explain why.\n",
    "        </li>\n",
    "    </ol>\n",
    "    </dl>\n",
    "</div>"
   ]
  },
  {
   "cell_type": "markdown",
   "metadata": {},
   "source": [
    "<div class=\"alert alert-block alert-warning\">\n",
    "    <b>3. A box of cookies contains 3 chocolate and 7 butter cookies. Miguel randomly selects a cookie and eats it. Then he randomly selects another cookie and eats it. (How many cookies did he take?)</b><br>\n",
    "    <dl>\n",
    "    <ol type=\"a\">\n",
    "        <li>\n",
    "           Draw the tree that represents the possibilities for the cookie selections. Write the probabilities along each branch of the tree.  \n",
    "        </li>\n",
    "        <li>\n",
    "            Are the probabilities for the flavor of the SECOND cookie that Miguel selects independent of his first selection? Explain. \n",
    "        </li>\n",
    "        <li>\n",
    "           Let S be the event that both cookies selected were the same flavor. Find P(S).   \n",
    "        </li>\n",
    "        <li>\n",
    "           Let T be the event that the cookies selected were different flavors. Find P(T) by two different methods: by using the complement rule and by using the branches of the tree. Your answers should be the same with both methods. \n",
    "        </li>\n",
    "        <li>\n",
    "          Let U be the event that the second cookie selected is a butter cookie. Find P(U). \n",
    "        </li>\n",
    "    </ol>\n",
    "    </dl>\n",
    "</div>"
   ]
  },
  {
   "cell_type": "markdown",
   "metadata": {},
   "source": [
    "<div class=\"alert alert-block alert-warning\">\n",
    "    <b>3. A box of cookies contains 3 chocolate and 7 butter cookies. Miguel randomly selects a cookie and eats it. Then he randomly selects another cookie and eats it. (How many cookies did he take?)</b><br>\n",
    "    <dl>\n",
    "    <ol type=\"a\">\n",
    "        <li>\n",
    "           Draw the tree that represents the possibilities for the cookie selections. Write the probabilities along each branch of the tree.  \n",
    "        </li>\n",
    "        <li>\n",
    "            Are the probabilities for the flavor of the SECOND cookie that Miguel selects independent of his first selection? Explain. \n",
    "        </li>\n",
    "        <li>\n",
    "           Let S be the event that both cookies selected were the same flavor. Find P(S).   \n",
    "        </li>\n",
    "        <li>\n",
    "           Let T be the event that the cookies selected were different flavors. Find P(T) by two different methods: by using the complement rule and by using the branches of the tree. Your answers should be the same with both methods. \n",
    "        </li>\n",
    "        <li>\n",
    "          Let U be the event that the second cookie selected is a butter cookie. Find P(U). \n",
    "        </li>\n",
    "    </ol>\n",
    "    </dl>\n",
    "</div>"
   ]
  },
  {
   "cell_type": "markdown",
   "metadata": {},
   "source": [
    "<div class=\"alert alert-block alert-warning\">\n",
    "    <b>4. A baker is deciding how many batches of muffins to make to sell in his bakery. He wants to make enough to sell every one and no fewer. Through observation, the baker has established a probability distribution.\n",
    "</b><br>\n",
    "    <dl>\n",
    "        <li>\n",
    "           x P(x)\n",
    "            <ol>\n",
    "                <dd>1) 0.15</dd>\n",
    "                <dd>2) 0.35</dd>\n",
    "                <dd>3) 0.40</dd>\n",
    "                <dd>4) 0.10</dd>\n",
    "            </ol>\n",
    "        </li>\n",
    "        <li>\n",
    "          What is the probability the baker will sell exactly one batch? P(x = 1) = _______  \n",
    "        </li>\n",
    "    </dl>\n",
    "</div>"
   ]
  },
  {
   "cell_type": "markdown",
   "metadata": {},
   "source": [
    "<div class=\"alert alert-block alert-warning\">\n",
    "    <b>5. Florida State University has 14 statistics classes scheduled for its Summer 2013 term. One class has space available for 30 students, eight classes have space for 60 students, one class has space for 70 students, and four classes have space for 100 students.\n",
    "</b><br>\n",
    "    <dl>\n",
    "        <dl>a. What is the average class size assuming each class is filled to capacity?</dl>\n",
    "        <dl>b. Space is available for 980 students. Suppose that each class is filled to capacity and select a statistics student at random. Let the random variable X equal the size of the student’s class. Define the PDF for X. </dl>\n",
    "        <dl>c. Find the mean of X. </dl>\n",
    "        <dl>d. Find the standard deviation of X.</dl>\n",
    "    </dl>\n",
    "</div>"
   ]
  },
  {
   "cell_type": "markdown",
   "metadata": {},
   "source": [
    "<div class=\"alert alert-block alert-warning\">\n",
    "    <b>6. What does the shaded area represent? P(___< x < ___) </b><br>\n",
    "</div>"
   ]
  },
  {
   "cell_type": "markdown",
   "metadata": {},
   "source": [
    "<div class=\"alert alert-block alert-warning\">\n",
    "    <b>7. According to a study by Dr. John McDougall of his live-in weight loss program, the people who follow his program lose between 6 and 15 pounds a month until they approach trim body weight. Let’s suppose that the weight loss is uniformly distributed. We are interested in the weight loss of a randomly selected individual following the program for one month.\n",
    "</b><br>\n",
    "      <dl>a. Define the random variable. X = _________ </dl>\n",
    "      <dl>b. X ~ _________ </dl>\n",
    "      <dl>c. Graph the probability distribution.</dl> \n",
    "      <dl>d. f(x) = _________</dl>\n",
    "      <dl>e. μ = _________ </dl>\n",
    "      <dl>f. σ = _________ </dl>\n",
    "</div>"
   ]
  },
  {
   "cell_type": "markdown",
   "metadata": {},
   "source": [
    "<div class=\"alert alert-block alert-warning\">\n",
    "    <b>8. The percent of persons (ages 5 and older) in each state who speak a language at home other than English is approximately exponentially distributed with a mean of 9.848. Suppose we randomly pick a state.\n",
    "</b><br>\n",
    "      <dl>a. Define the random variable. X = _________ </dl>\n",
    "      <dl>b. Is X continuous or discrete? </dl>\n",
    "      <dl>c. X ~ ________ </dl> \n",
    "      <dl>d. μ = _________ </dl>\n",
    "      <dl>e. σ = _________ </dl>\n",
    "      <dl>f. Draw a graph of the probability distribution. Label the axes. </dl>\n",
    "</div>"
   ]
  },
  {
   "cell_type": "code",
   "execution_count": null,
   "metadata": {},
   "outputs": [],
   "source": [
    "\n",
    "\n"
   ]
  }
 ],
 "metadata": {
  "kernelspec": {
   "display_name": "Python 3",
   "language": "python",
   "name": "python3"
  },
  "language_info": {
   "codemirror_mode": {
    "name": "ipython",
    "version": 3
   },
   "file_extension": ".py",
   "mimetype": "text/x-python",
   "name": "python",
   "nbconvert_exporter": "python",
   "pygments_lexer": "ipython3",
   "version": "3.8.5"
  }
 },
 "nbformat": 4,
 "nbformat_minor": 4
}
